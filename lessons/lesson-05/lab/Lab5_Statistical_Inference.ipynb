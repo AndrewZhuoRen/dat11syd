{
 "cells": [
  {
   "cell_type": "markdown",
   "metadata": {
    "deletable": true,
    "editable": true
   },
   "source": [
    "# Lab 5 (Week 3) - Statisitical Inference\n",
    "\n"
   ]
  },
  {
   "cell_type": "code",
   "execution_count": 1,
   "metadata": {
    "collapsed": true,
    "deletable": true,
    "editable": true
   },
   "outputs": [],
   "source": [
    "import numpy as np\n",
    "import matplotlib.pyplot as plt\n",
    "import scipy.stats as stats\n",
    "%matplotlib inline"
   ]
  },
  {
   "cell_type": "markdown",
   "metadata": {
    "deletable": true,
    "editable": true
   },
   "source": [
    "## Probability Density Functions\n",
    "\n",
    "We can represent the relative likelihood of every possible value of a continuous variable *x* using a probability density function. Actual probabilities are computed from the area under the curve. "
   ]
  },
  {
   "cell_type": "markdown",
   "metadata": {
    "deletable": true,
    "editable": true
   },
   "source": [
    "The total area under the curve is 1, which simply means that all possibilities are included:\n",
    "\n",
    "$$P(-\\infty < x < +\\infty) = \\int_{-\\infty}^{+\\infty} \\mathcal{PDF} (x) dx = 1$$"
   ]
  },
  {
   "cell_type": "markdown",
   "metadata": {
    "deletable": true,
    "editable": true
   },
   "source": [
    "The probability of a random sample being less than or equal to some value *x<sub>1</sub>* is:\n",
    "\n",
    "$$P(x \\leq x_1) = \\int_{-\\infty}^{x_1} \\mathcal{PDF} (x) dx$$"
   ]
  },
  {
   "cell_type": "markdown",
   "metadata": {
    "deletable": true,
    "editable": true
   },
   "source": [
    "The probability of a random sample being greater than some value *x<sub>1</sub>* is therefore:\n",
    "\n",
    "$$P(x > x_1) = 1 - \\int_{-\\infty}^{x_1} \\mathcal{PDF} (x) dx$$"
   ]
  },
  {
   "cell_type": "markdown",
   "metadata": {
    "deletable": true,
    "editable": true
   },
   "source": [
    "The probability of a random sample being between *x<sub>1</sub>* and *x<sub>2</sub>* is:\n",
    "\n",
    "$$P(x_1 \\lt x \\leq x_2) = \\int_{x_1}^{x_2} \\mathcal{PDF} (x) dx$$"
   ]
  },
  {
   "cell_type": "markdown",
   "metadata": {
    "deletable": true,
    "editable": true
   },
   "source": [
    "Nb. When we calculate the area under the $\\mathcal{PDF}$ curve by integrating the function, as above, we are computing the cumulative density. We can do this with an indefinite integral to derive the **cumulative distribution function** (CDF)."
   ]
  },
  {
   "cell_type": "markdown",
   "metadata": {
    "deletable": true,
    "editable": true
   },
   "source": [
    "## The Normal Distribution\n",
    "\n",
    "The most commonly occurring PDF is the normal (or Gaussian) distribution:\n",
    "\n",
    "$$\\mathcal{N}(x \\mid \\mu, \\sigma^2) = \\frac{1}{\\sqrt{2\\pi \\sigma^2}} \\int_{-\\infty}^{x} \\exp \\Big(-\\frac{(x-\\mu)^2}{2\\sigma^2}\\Big) dx$$\n",
    "\n",
    "where $\\mu$ is the mean value of the distribution and $\\sigma$ is the standard deviation."
   ]
  },
  {
   "cell_type": "markdown",
   "metadata": {
    "deletable": true,
    "editable": true
   },
   "source": [
    "The CDF of the normal distribution is:\n",
    "\n",
    "$$F(x \\mid \\mu, \\sigma^2) = \\frac{1}{\\sqrt{2\\pi \\sigma^2}} \\int_{-\\infty}^{x} \\exp \\Big(-\\frac{(t-\\mu)^2}{2\\sigma^2}\\Big) dt$$"
   ]
  },
  {
   "cell_type": "markdown",
   "metadata": {
    "deletable": true,
    "editable": true
   },
   "source": [
    "### The Standard Normal Distribution"
   ]
  },
  {
   "cell_type": "markdown",
   "metadata": {
    "deletable": true,
    "editable": true
   },
   "source": [
    "If we transform a variable *x* so as to \"standardise\" it, we will get the **standard normal distribution**, which hwas a mean of 0 and a standard deviation of 1:\n",
    "\n",
    "$$z = \\frac{x-\\mu}{\\sigma}$$"
   ]
  },
  {
   "cell_type": "markdown",
   "metadata": {
    "deletable": true,
    "editable": true
   },
   "source": [
    "If we don't know the true population mean and standard deviation (i.e. we are working with a finite set of sample data) we must use the standard error of the mean instead of the standard deviation, so replace $\\sigma$ with $s \\Big/ \\sqrt{n} $  (where $s$ is the sample standard deviation). Allso, $\\mu$ is replaced by the sample mean $\\overline{X}$."
   ]
  },
  {
   "cell_type": "code",
   "execution_count": 2,
   "metadata": {
    "collapsed": false,
    "deletable": true,
    "editable": true
   },
   "outputs": [
    {
     "data": {
      "image/png": "[encoded data removed]",
      "text/plain": [
       "<matplotlib.figure.Figure at 0x10f218b00>"
      ]
     },
     "metadata": {},
     "output_type": "display_data"
    }
   ],
   "source": [
    "# credit: Sebastian Raschka (https://github.com/rasbt/data-science-tutorial)\n",
    "def univariate_gaussian_pdf(x, mean, variance):\n",
    "    return (1. / np.sqrt(2 * np.pi * variance) * \n",
    "            np.exp(- ((x - mean) ** 2 / 2. * variance)))\n",
    "\n",
    "mean = 0\n",
    "stddev = 1\n",
    "x = np.arange(-5, 5, 0.01)\n",
    "y = univariate_gaussian_pdf(x, mean, stddev ** 2)\n",
    "plt.plot(x, y)\n",
    "plt.xlabel('z')\n",
    "plt.ylabel('Probability Density Function (PDF)')\n",
    "plt.title('Standard Normal Distribution')\n",
    "plt.show()"
   ]
  },
  {
   "cell_type": "markdown",
   "metadata": {
    "deletable": true,
    "editable": true
   },
   "source": [
    "The result of this transformation is that the horizontal axis (which represents the possible sample values) is now expressed in terms of the standard deviation: a *z* value of 1 means an *x* value of $\\sigma$, a *z* value of 2 means an *x* value of 2$\\sigma$, and so on. So, we can now talk in general terms about how far a value is from the mean by using this ***z* statistic**, and we can compute the probability of this sample occurring using the area under the curve."
   ]
  },
  {
   "cell_type": "markdown",
   "metadata": {
    "deletable": true,
    "editable": true
   },
   "source": [
    "Note that the area under the curve between -2$\\sigma$ and +2$\\sigma$ is approximately 0.95. This means that 95% of samples occur within this band. This is where the '*p* < 0.05' criterion comes from. "
   ]
  },
  {
   "cell_type": "code",
   "execution_count": 3,
   "metadata": {
    "collapsed": true,
    "deletable": true,
    "editable": true
   },
   "outputs": [],
   "source": [
    "# credit: Sebastian Raschka (https://github.com/rasbt/data-science-tutorial)\n",
    "from scipy.integrate import quad\n",
    "\n",
    "def gaussian_cdf_helper(t, mean, variance):\n",
    "    return (1. / (np.sqrt(2. * np.pi * variance)) * np.exp(-(t - mean)**2 / (2. * variance)))\n",
    "\n",
    "def gaussian_cdf(x, mean, variance):\n",
    "    sd = 1\n",
    "    mean =0\n",
    "    out = []\n",
    "    for val in x:\n",
    "        integ = (quad(gaussian_cdf_helper, -np.inf, val, args=(mean, variance))[0])\n",
    "        out.append(integ)\n",
    "    return out"
   ]
  },
  {
   "cell_type": "code",
   "execution_count": 4,
   "metadata": {
    "collapsed": false,
    "deletable": true,
    "editable": true
   },
   "outputs": [
    {
     "data": {
      "image/png": "[encoded data removed]",
      "text/plain": [
       "<matplotlib.figure.Figure at 0x10f3e0a58>"
      ]
     },
     "metadata": {},
     "output_type": "display_data"
    }
   ],
   "source": [
    "mean = 0\n",
    "stddev = 1\n",
    "x = np.arange(-5, 5, 0.01)\n",
    "\n",
    "y = gaussian_cdf(x, mean, stddev**2)\n",
    "plt.plot(x, y)\n",
    "plt.xlabel('z')\n",
    "plt.ylabel('Cumulative Distribution Function (CDF)')\n",
    "plt.title('Standard Normal Cumulative Probability')\n",
    "plt.show()"
   ]
  },
  {
   "cell_type": "markdown",
   "metadata": {
    "deletable": true,
    "editable": true
   },
   "source": [
    "\n",
    "Let $\\alpha$ be the threshold for significance (typically 0.05). Then, if we want to know the likelihood that a sample is greater than *z* we use a one-tailed test in which the area of the tail is $\\alpha$. Alternatively, if we want to know the likelihood that a sample is outside the range [-*z*, *z*], we use a two-tailed test in which the area of each tail is $\\alpha$/2."
   ]
  },
  {
   "cell_type": "markdown",
   "metadata": {
    "deletable": true,
    "editable": true
   },
   "source": [
    "In Python, we can easily compute probabilities from *z*-values and vice versa. To get the *z*-value for a one-tailed test on a standard normal distribution, we pass an argument of (1 - $\\alpha$) to the ppf function. So, for $\\alpha$ = 0.05:"
   ]
  },
  {
   "cell_type": "code",
   "execution_count": 5,
   "metadata": {
    "collapsed": false,
    "deletable": true,
    "editable": true
   },
   "outputs": [
    {
     "data": {
      "text/plain": [
       "1.6448536269514722"
      ]
     },
     "execution_count": 5,
     "metadata": {},
     "output_type": "execute_result"
    }
   ],
   "source": [
    "import scipy.stats as st\n",
    "st.norm.ppf(.95)"
   ]
  },
  {
   "cell_type": "markdown",
   "metadata": {
    "deletable": true,
    "editable": true
   },
   "source": [
    "Or about 1.64 standard deviations. Conversely, to get the probability that a *z*-value exceeds 1.64 standard deviations:"
   ]
  },
  {
   "cell_type": "code",
   "execution_count": 6,
   "metadata": {
    "collapsed": false,
    "deletable": true,
    "editable": true
   },
   "outputs": [
    {
     "data": {
      "text/plain": [
       "0.94949741652589625"
      ]
     },
     "execution_count": 6,
     "metadata": {},
     "output_type": "execute_result"
    }
   ],
   "source": [
    "st.norm.cdf(1.64)"
   ]
  },
  {
   "cell_type": "markdown",
   "metadata": {
    "deletable": true,
    "editable": true
   },
   "source": [
    "<img src=\"files/lab5-one-sided.png\", style=\"width: 300px;\">"
   ]
  },
  {
   "cell_type": "markdown",
   "metadata": {
    "deletable": true,
    "editable": true
   },
   "source": [
    "To get the *z*-values for a two-tailed test on a standard normal distribution, we pass an argument of ($\\alpha$/2) for the negative tail, and (1 - $\\alpha$/2) for the positive tail. So, for $\\alpha$ = 0.05:"
   ]
  },
  {
   "cell_type": "code",
   "execution_count": 7,
   "metadata": {
    "collapsed": false,
    "deletable": true,
    "editable": true
   },
   "outputs": [
    {
     "name": "stdout",
     "output_type": "stream",
     "text": [
      "-1.9599639845400545, 1.959963984540054\n"
     ]
    }
   ],
   "source": [
    "print('{}, {}'.format(st.norm.ppf(.025), st.norm.ppf(.975)))"
   ]
  },
  {
   "cell_type": "markdown",
   "metadata": {
    "deletable": true,
    "editable": true
   },
   "source": [
    "To get the get the probability that a *z*-value differs from zero by more than 1.96 standard deviations (plus or minus):"
   ]
  },
  {
   "cell_type": "code",
   "execution_count": 8,
   "metadata": {
    "collapsed": false,
    "deletable": true,
    "editable": true
   },
   "outputs": [
    {
     "data": {
      "text/plain": [
       "0.049995790296440967"
      ]
     },
     "execution_count": 8,
     "metadata": {},
     "output_type": "execute_result"
    }
   ],
   "source": [
    "2 * (1 - st.norm.cdf(1.96))"
   ]
  },
  {
   "cell_type": "markdown",
   "metadata": {
    "deletable": true,
    "editable": true
   },
   "source": [
    "<img src=\"files/lab5-two-sided.png\", style=\"width: 300px;\">"
   ]
  },
  {
   "cell_type": "markdown",
   "metadata": {
    "deletable": true,
    "editable": true
   },
   "source": [
    "## The t-Distribution\n",
    "\n",
    "The methods shown above are theoretical, in that they apply to idealised mathematical functions. A real data sets is a finite sample of an unknown distribution, and can never yield perfect knowledge of the underlying population. In order to estimate the mean when the sample size is small and the standard deviation of the population is unknown, we need to correct the test statistic based on a new $\\mathcal{PDF}$ called the *t-distribution*:"
   ]
  },
  {
   "cell_type": "markdown",
   "metadata": {
    "deletable": true,
    "editable": true
   },
   "source": [
    "<img src=\"files/lab5-t-dist.png\", style=\"width: 600px;\">"
   ]
  },
  {
   "cell_type": "markdown",
   "metadata": {
    "deletable": true,
    "editable": true
   },
   "source": [
    "The t-distribution approaches the normal distribution as the number of degrees of freedom $\\nu$ approaches $\\infty$. (Nb. $\\nu$ is related to the number of samples $n$. For the unmodified *t*-test it is $n - 1$, but this assumes the variances of the population and the test sample are the same.) As $\\nu$ gets smaller the distribution becomes more broad (i.e. more weight goes into the tails)."
   ]
  },
  {
   "cell_type": "markdown",
   "metadata": {
    "deletable": true,
    "editable": true
   },
   "source": [
    "### Student's *t*-Test"
   ]
  },
  {
   "cell_type": "markdown",
   "metadata": {
    "deletable": true,
    "editable": true
   },
   "source": [
    "To calculate the likelihood that a value belongs to a sampled distribution we employ the same methods as above, but we use the *t*-statistic instead of the *z*-statistic:"
   ]
  },
  {
   "cell_type": "markdown",
   "metadata": {
    "deletable": true,
    "editable": true
   },
   "source": [
    "<img src=\"files/lab5-image1.gif\", style=\"width: 600px;\">"
   ]
  },
  {
   "cell_type": "markdown",
   "metadata": {
    "deletable": true,
    "editable": true
   },
   "source": [
    "In the above example, $t_0$ is the *t*-value of the sample mean and $t_{obs}$ is the new value we are testing. We don't need to standardise the variable first because the transformation is built into the computation of the *t*-statistic."
   ]
  },
  {
   "cell_type": "markdown",
   "metadata": {
    "deletable": true,
    "editable": true
   },
   "source": [
    "**Practical Example:** We will synthesise some data on the distribution of ages in a large population, then in a smaller one, and test the null hypothesis (specifically, that there is no difference in the means). To mke things more interesting, each data set (the population and the test sample) will be synthesised from two separate randomly sampled normal distributions with different means, so that the resulting distributions will not be normal."
   ]
  },
  {
   "cell_type": "code",
   "execution_count": 9,
   "metadata": {
    "collapsed": false,
    "deletable": true,
    "editable": true
   },
   "outputs": [
    {
     "data": {
      "image/png": "[encoded data removed]",
      "text/plain": [
       "<matplotlib.figure.Figure at 0x10f37d550>"
      ]
     },
     "metadata": {},
     "output_type": "display_data"
    }
   ],
   "source": [
    "# credit: http://hamelg.blogspot.com.au/2015/11/python-for-data-analysis-part-24.html\n",
    "np.random.seed(6)\n",
    "\n",
    "# large population:\n",
    "population_ages1 = stats.poisson.rvs(loc=18, mu=35, size=150000)\n",
    "population_ages2 = stats.poisson.rvs(loc=18, mu=10, size=100000)\n",
    "population_ages = np.concatenate((population_ages1, population_ages2))\n",
    "n1, bins1, patches1 = plt.hist(population_ages, 50, normed=1, facecolor='green', alpha=0.75)\n"
   ]
  },
  {
   "cell_type": "code",
   "execution_count": 10,
   "metadata": {
    "collapsed": false,
    "deletable": true,
    "editable": true
   },
   "outputs": [
    {
     "data": {
      "image/png": "[encoded data removed]",
      "text/plain": [
       "<matplotlib.figure.Figure at 0x10ff33278>"
      ]
     },
     "metadata": {},
     "output_type": "display_data"
    }
   ],
   "source": [
    "# test sample:\n",
    "minnesota_ages1 = stats.poisson.rvs(loc=18, mu=30, size=30)\n",
    "minnesota_ages2 = stats.poisson.rvs(loc=18, mu=10, size=20)\n",
    "minnesota_ages = np.concatenate((minnesota_ages1, minnesota_ages2))\n",
    "n2, bins2, patches2 = plt.hist(minnesota_ages, 50, normed=1, facecolor='blue', alpha=0.75)"
   ]
  },
  {
   "cell_type": "code",
   "execution_count": 33,
   "metadata": {
    "collapsed": false,
    "deletable": true,
    "editable": true
   },
   "outputs": [
    {
     "name": "stdout",
     "output_type": "stream",
     "text": [
      "Population mean age = 43.000112, Test mean age = 39.26\n"
     ]
    }
   ],
   "source": [
    "print('Population mean age = {}, Test mean age = {}'.format(population_ages.mean(), minnesota_ages.mean()))\n"
   ]
  },
  {
   "cell_type": "markdown",
   "metadata": {
    "deletable": true,
    "editable": true
   },
   "source": [
    "We are testing one estimate of a new sample mean against a population mean, so we use the following function:"
   ]
  },
  {
   "cell_type": "code",
   "execution_count": 34,
   "metadata": {
    "collapsed": false,
    "deletable": true,
    "editable": true
   },
   "outputs": [
    {
     "data": {
      "text/plain": [
       "Ttest_1sampResult(statistic=-2.5742714883655027, pvalue=0.013118685425061678)"
      ]
     },
     "execution_count": 34,
     "metadata": {},
     "output_type": "execute_result"
    }
   ],
   "source": [
    "stats.ttest_1samp(a= minnesota_ages,               # Sample data\n",
    "                 popmean= population_ages.mean())  # Pop mean"
   ]
  },
  {
   "cell_type": "markdown",
   "metadata": {
    "deletable": true,
    "editable": true
   },
   "source": [
    "For the difference to be significant (i.e. to reject the null hypothesis), this *t*-statistic needs to be outside the area under the curve between our specified quantiles. If we choose $\\alpha$ = 0.05 then we have 0.025 in each tail. Also, 50 samples gives 49 degrees of freedom for the second parameter. Finally, we will look at the left tail because the *t*-statistic is negative (the test mean is less than the population mean):"
   ]
  },
  {
   "cell_type": "code",
   "execution_count": 35,
   "metadata": {
    "collapsed": false,
    "deletable": true,
    "editable": true
   },
   "outputs": [
    {
     "data": {
      "text/plain": [
       "-2.0095752344892093"
      ]
     },
     "execution_count": 35,
     "metadata": {},
     "output_type": "execute_result"
    }
   ],
   "source": [
    "stats.t.ppf(q=0.025, df=49)  # t-distribution probability vs. Quantile, Degrees of freedom"
   ]
  },
  {
   "cell_type": "markdown",
   "metadata": {
    "deletable": true,
    "editable": true
   },
   "source": [
    "The *t*-statistic (-2.5742) is less than the 0.025 quantile (-2.0096), so we reject the null hypothesis and say we believe the sample is from different population.\n",
    "\n",
    "To get the actual *p*-value of our result:"
   ]
  },
  {
   "cell_type": "code",
   "execution_count": 36,
   "metadata": {
    "collapsed": false,
    "deletable": true,
    "editable": true
   },
   "outputs": [
    {
     "data": {
      "text/plain": [
       "0.013121066545690117"
      ]
     },
     "execution_count": 36,
     "metadata": {},
     "output_type": "execute_result"
    }
   ],
   "source": [
    "stats.t.cdf(x=-2.5742, df= 49) * 2     # t-test statistic Mupltiply by two for two-tailed test*"
   ]
  },
  {
   "cell_type": "markdown",
   "metadata": {
    "deletable": true,
    "editable": true
   },
   "source": [
    "So, we estimate a 1.3% probability that we have erroneously rejected the null hypothesis."
   ]
  },
  {
   "cell_type": "markdown",
   "metadata": {
    "deletable": true,
    "editable": true
   },
   "source": [
    "**Exercise:** Copy the cells that build and test the data sets, then experiment by modifying the input data.\n",
    "\n",
    "1. For both data sets, make the mean of the secondary distribution closer to that of the primary, so that the distribution is less bimodal. Does this have any effect on the tests?\n",
    "\n",
    "2. Make the mean of the primary distribution of the test data set closer to that of the population data set. How close does it need to be before the null hypothesis is upheld (i.e. the difference is no longer significant at $p=0.05)$?\n",
    "\n",
    "3. Vary the size of the test data set. How does this affect the *t*-statistic (and, hence, the disposition of the null hypothesis)?"
   ]
  },
  {
   "cell_type": "code",
   "execution_count": null,
   "metadata": {
    "collapsed": true,
    "deletable": true,
    "editable": true
   },
   "outputs": [],
   "source": []
  }
 ],
 "metadata": {
  "kernelspec": {
   "display_name": "Python 3",
   "language": "python",
   "name": "python3"
  },
  "language_info": {
   "codemirror_mode": {
    "name": "ipython",
    "version": 3
   },
   "file_extension": ".py",
   "mimetype": "text/x-python",
   "name": "python",
   "nbconvert_exporter": "python",
   "pygments_lexer": "ipython3",
   "version": "3.5.3"
  }
 },
 "nbformat": 4,
 "nbformat_minor": 2
}
