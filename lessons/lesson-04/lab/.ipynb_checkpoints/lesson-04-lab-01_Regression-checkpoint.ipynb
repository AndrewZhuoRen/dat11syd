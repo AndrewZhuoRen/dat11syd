{
 "cells": [
  {
   "cell_type": "markdown",
   "metadata": {},
   "source": [
    "# Data Science Course Week 2 - Lesson 2 \n",
    "# Introduction to Linear Regression\n"
   ]
  },
  {
   "cell_type": "markdown",
   "metadata": {},
   "source": [
    "Regression is the process of learning a mapping from a vector of input data to a quantitative output given a set of observations. For example, coordinates in a room to Wi-Fi signal strength, someone's Body Mass Index to their life expectancy or a stock's performance over the last 5 days to it's value tomorrow.\n",
    "\n",
    "There are numerous methods for addressing this problem, each with their own set of assumptions and behaviour. Some are ideal for tackling large volumes of data while others provide more informative probabilistic outputs.\n",
    "\n",
    "In this lab, we'll focus on Linear Regression; a good point of reference for many other regression techniques and still used widely around the world today due to their simplicity and favourable scaling characteristics."
   ]
  },
  {
   "cell_type": "markdown",
   "metadata": {},
   "source": [
    "We will be using [statsmodels](http://statsmodels.sourceforge.net/devel/examples/notebooks/generated/ols.html) for learning about linear regression. It covers the models better than in scikit when we are learning and want more insights into the model parameters. But we will mainly be using scikit learn for the rest of the course. "
   ]
  },
  {
   "cell_type": "markdown",
   "metadata": {},
   "source": [
    "# Class Workshop"
   ]
  },
  {
   "cell_type": "code",
   "execution_count": 1,
   "metadata": {},
   "outputs": [],
   "source": [
    "# Import the libraries required\n",
    "import pandas as pd\n",
    "import statsmodels.formula.api as smf\n",
    "import matplotlib.pyplot as plt\n",
    "\n",
    "# this allows plots to appear directly in the notebook\n",
    "%matplotlib inline"
   ]
  },
  {
   "cell_type": "markdown",
   "metadata": {},
   "source": [
    "Here we are using a dataset of chicago house prices. The dataset is made up of houses that sold and several variables that describe the data. "
   ]
  },
  {
   "cell_type": "code",
   "execution_count": 2,
   "metadata": {},
   "outputs": [],
   "source": [
    "# Read in data\n",
    "house_data = pd.read_csv(\"C:/Users/Andrew/Documents/dat11syd/data/chicagohouseprices2.csv\", index_col=0)"
   ]
  },
  {
   "cell_type": "code",
   "execution_count": 3,
   "metadata": {},
   "outputs": [
    {
     "data": {
      "text/html": [
       "<div>\n",
       "<style scoped>\n",
       "    .dataframe tbody tr th:only-of-type {\n",
       "        vertical-align: middle;\n",
       "    }\n",
       "\n",
       "    .dataframe tbody tr th {\n",
       "        vertical-align: top;\n",
       "    }\n",
       "\n",
       "    .dataframe thead th {\n",
       "        text-align: right;\n",
       "    }\n",
       "</style>\n",
       "<table border=\"1\" class=\"dataframe\">\n",
       "  <thead>\n",
       "    <tr style=\"text-align: right;\">\n",
       "      <th></th>\n",
       "      <th>Address</th>\n",
       "      <th>Neighborhood</th>\n",
       "      <th>HouseType</th>\n",
       "      <th>Price</th>\n",
       "      <th>Bath</th>\n",
       "      <th>CrimeIndex</th>\n",
       "      <th>MinutesToLoop</th>\n",
       "      <th>MilesToLake</th>\n",
       "      <th>Age</th>\n",
       "      <th>LotSizeSqft</th>\n",
       "      <th>HouseSizeSqft</th>\n",
       "      <th>SchoolIndex</th>\n",
       "      <th>EstimatedPrice</th>\n",
       "    </tr>\n",
       "  </thead>\n",
       "  <tbody>\n",
       "    <tr>\n",
       "      <th>0</th>\n",
       "      <td>2111 W Division St #5, Chicago IL</td>\n",
       "      <td>Wicker Park</td>\n",
       "      <td>Condo</td>\n",
       "      <td>390000</td>\n",
       "      <td>NaN</td>\n",
       "      <td>2.59</td>\n",
       "      <td>9</td>\n",
       "      <td>3.91</td>\n",
       "      <td>0</td>\n",
       "      <td>0</td>\n",
       "      <td>0</td>\n",
       "      <td>36.2</td>\n",
       "      <td>335790.0</td>\n",
       "    </tr>\n",
       "    <tr>\n",
       "      <th>1</th>\n",
       "      <td>1520 W Walton St #2, Chicago IL</td>\n",
       "      <td>Wicker Park</td>\n",
       "      <td>Condo</td>\n",
       "      <td>320500</td>\n",
       "      <td>NaN</td>\n",
       "      <td>4.10</td>\n",
       "      <td>7</td>\n",
       "      <td>3.02</td>\n",
       "      <td>0</td>\n",
       "      <td>0</td>\n",
       "      <td>0</td>\n",
       "      <td>91.7</td>\n",
       "      <td>376908.0</td>\n",
       "    </tr>\n",
       "    <tr>\n",
       "      <th>2</th>\n",
       "      <td>2047 W Thomas St, Chicago IL</td>\n",
       "      <td>Wicker Park</td>\n",
       "      <td>Multi-Family Home</td>\n",
       "      <td>620000</td>\n",
       "      <td>4.0</td>\n",
       "      <td>2.09</td>\n",
       "      <td>9</td>\n",
       "      <td>3.84</td>\n",
       "      <td>94</td>\n",
       "      <td>3049</td>\n",
       "      <td>3492</td>\n",
       "      <td>36.2</td>\n",
       "      <td>629300.0</td>\n",
       "    </tr>\n",
       "    <tr>\n",
       "      <th>3</th>\n",
       "      <td>1735 N Paulina St #314, Chicago IL</td>\n",
       "      <td>Wicker Park</td>\n",
       "      <td>Condo</td>\n",
       "      <td>318000</td>\n",
       "      <td>NaN</td>\n",
       "      <td>2.40</td>\n",
       "      <td>9</td>\n",
       "      <td>2.90</td>\n",
       "      <td>0</td>\n",
       "      <td>0</td>\n",
       "      <td>0</td>\n",
       "      <td>50.0</td>\n",
       "      <td>297330.0</td>\n",
       "    </tr>\n",
       "    <tr>\n",
       "      <th>4</th>\n",
       "      <td>1634 W Beach Ave, Chicago IL</td>\n",
       "      <td>Wicker Park</td>\n",
       "      <td>Multi-Family Home</td>\n",
       "      <td>477000</td>\n",
       "      <td>2.0</td>\n",
       "      <td>4.63</td>\n",
       "      <td>9</td>\n",
       "      <td>2.96</td>\n",
       "      <td>31</td>\n",
       "      <td>2614</td>\n",
       "      <td>1840</td>\n",
       "      <td>78.9</td>\n",
       "      <td>463644.0</td>\n",
       "    </tr>\n",
       "  </tbody>\n",
       "</table>\n",
       "</div>"
      ],
      "text/plain": [
       "                              Address Neighborhood          HouseType   Price  \\\n",
       "0   2111 W Division St #5, Chicago IL  Wicker Park              Condo  390000   \n",
       "1     1520 W Walton St #2, Chicago IL  Wicker Park              Condo  320500   \n",
       "2        2047 W Thomas St, Chicago IL  Wicker Park  Multi-Family Home  620000   \n",
       "3  1735 N Paulina St #314, Chicago IL  Wicker Park              Condo  318000   \n",
       "4        1634 W Beach Ave, Chicago IL  Wicker Park  Multi-Family Home  477000   \n",
       "\n",
       "   Bath  CrimeIndex  MinutesToLoop  MilesToLake  Age  LotSizeSqft  \\\n",
       "0   NaN        2.59              9         3.91    0            0   \n",
       "1   NaN        4.10              7         3.02    0            0   \n",
       "2   4.0        2.09              9         3.84   94         3049   \n",
       "3   NaN        2.40              9         2.90    0            0   \n",
       "4   2.0        4.63              9         2.96   31         2614   \n",
       "\n",
       "   HouseSizeSqft  SchoolIndex  EstimatedPrice  \n",
       "0              0         36.2        335790.0  \n",
       "1              0         91.7        376908.0  \n",
       "2           3492         36.2        629300.0  \n",
       "3              0         50.0        297330.0  \n",
       "4           1840         78.9        463644.0  "
      ]
     },
     "execution_count": 3,
     "metadata": {},
     "output_type": "execute_result"
    }
   ],
   "source": [
    "house_data.head()"
   ]
  },
  {
   "cell_type": "code",
   "execution_count": 4,
   "metadata": {},
   "outputs": [
    {
     "data": {
      "text/plain": [
       "Address             0\n",
       "Neighborhood        0\n",
       "HouseType           3\n",
       "Price               0\n",
       "Bath              149\n",
       "CrimeIndex          0\n",
       "MinutesToLoop       0\n",
       "MilesToLake         0\n",
       "Age                 0\n",
       "LotSizeSqft         0\n",
       "HouseSizeSqft       0\n",
       "SchoolIndex         0\n",
       "EstimatedPrice      0\n",
       "dtype: int64"
      ]
     },
     "execution_count": 4,
     "metadata": {},
     "output_type": "execute_result"
    }
   ],
   "source": [
    "# do we have any missing data?\n",
    "house_data.isnull().sum() "
   ]
  },
  {
   "cell_type": "code",
   "execution_count": 5,
   "metadata": {},
   "outputs": [
    {
     "data": {
      "text/html": [
       "<div>\n",
       "<style scoped>\n",
       "    .dataframe tbody tr th:only-of-type {\n",
       "        vertical-align: middle;\n",
       "    }\n",
       "\n",
       "    .dataframe tbody tr th {\n",
       "        vertical-align: top;\n",
       "    }\n",
       "\n",
       "    .dataframe thead th {\n",
       "        text-align: right;\n",
       "    }\n",
       "</style>\n",
       "<table border=\"1\" class=\"dataframe\">\n",
       "  <thead>\n",
       "    <tr style=\"text-align: right;\">\n",
       "      <th></th>\n",
       "      <th>Price</th>\n",
       "      <th>Bath</th>\n",
       "      <th>CrimeIndex</th>\n",
       "      <th>MinutesToLoop</th>\n",
       "      <th>MilesToLake</th>\n",
       "      <th>Age</th>\n",
       "      <th>LotSizeSqft</th>\n",
       "      <th>HouseSizeSqft</th>\n",
       "      <th>SchoolIndex</th>\n",
       "      <th>EstimatedPrice</th>\n",
       "    </tr>\n",
       "  </thead>\n",
       "  <tbody>\n",
       "    <tr>\n",
       "      <th>count</th>\n",
       "      <td>2.190000e+02</td>\n",
       "      <td>70.000000</td>\n",
       "      <td>219.000000</td>\n",
       "      <td>219.000000</td>\n",
       "      <td>219.000000</td>\n",
       "      <td>219.000000</td>\n",
       "      <td>219.000000</td>\n",
       "      <td>219.000000</td>\n",
       "      <td>219.000000</td>\n",
       "      <td>2.190000e+02</td>\n",
       "    </tr>\n",
       "    <tr>\n",
       "      <th>mean</th>\n",
       "      <td>4.834311e+05</td>\n",
       "      <td>2.271429</td>\n",
       "      <td>4.663607</td>\n",
       "      <td>9.698630</td>\n",
       "      <td>3.420411</td>\n",
       "      <td>29.424658</td>\n",
       "      <td>873.200913</td>\n",
       "      <td>699.977169</td>\n",
       "      <td>49.197717</td>\n",
       "      <td>4.862191e+05</td>\n",
       "    </tr>\n",
       "    <tr>\n",
       "      <th>std</th>\n",
       "      <td>4.001249e+05</td>\n",
       "      <td>0.883364</td>\n",
       "      <td>1.418146</td>\n",
       "      <td>2.898995</td>\n",
       "      <td>0.352522</td>\n",
       "      <td>49.155880</td>\n",
       "      <td>1392.893683</td>\n",
       "      <td>1175.278922</td>\n",
       "      <td>18.554525</td>\n",
       "      <td>3.978582e+05</td>\n",
       "    </tr>\n",
       "    <tr>\n",
       "      <th>min</th>\n",
       "      <td>2.450000e+04</td>\n",
       "      <td>1.000000</td>\n",
       "      <td>1.090000</td>\n",
       "      <td>6.000000</td>\n",
       "      <td>2.770000</td>\n",
       "      <td>0.000000</td>\n",
       "      <td>0.000000</td>\n",
       "      <td>0.000000</td>\n",
       "      <td>16.700000</td>\n",
       "      <td>2.883650e+04</td>\n",
       "    </tr>\n",
       "    <tr>\n",
       "      <th>25%</th>\n",
       "      <td>3.190000e+05</td>\n",
       "      <td>2.000000</td>\n",
       "      <td>3.940000</td>\n",
       "      <td>8.000000</td>\n",
       "      <td>3.150000</td>\n",
       "      <td>0.000000</td>\n",
       "      <td>0.000000</td>\n",
       "      <td>0.000000</td>\n",
       "      <td>36.100000</td>\n",
       "      <td>3.074488e+05</td>\n",
       "    </tr>\n",
       "    <tr>\n",
       "      <th>50%</th>\n",
       "      <td>3.900000e+05</td>\n",
       "      <td>2.000000</td>\n",
       "      <td>4.930000</td>\n",
       "      <td>9.000000</td>\n",
       "      <td>3.400000</td>\n",
       "      <td>0.000000</td>\n",
       "      <td>0.000000</td>\n",
       "      <td>0.000000</td>\n",
       "      <td>50.000000</td>\n",
       "      <td>3.919800e+05</td>\n",
       "    </tr>\n",
       "    <tr>\n",
       "      <th>75%</th>\n",
       "      <td>5.125000e+05</td>\n",
       "      <td>3.000000</td>\n",
       "      <td>5.580000</td>\n",
       "      <td>10.000000</td>\n",
       "      <td>3.685000</td>\n",
       "      <td>41.000000</td>\n",
       "      <td>2614.000000</td>\n",
       "      <td>1344.000000</td>\n",
       "      <td>59.500000</td>\n",
       "      <td>5.324750e+05</td>\n",
       "    </tr>\n",
       "    <tr>\n",
       "      <th>max</th>\n",
       "      <td>3.686000e+06</td>\n",
       "      <td>4.000000</td>\n",
       "      <td>8.080000</td>\n",
       "      <td>22.000000</td>\n",
       "      <td>4.200000</td>\n",
       "      <td>131.000000</td>\n",
       "      <td>7405.000000</td>\n",
       "      <td>6422.000000</td>\n",
       "      <td>93.900000</td>\n",
       "      <td>3.973508e+06</td>\n",
       "    </tr>\n",
       "  </tbody>\n",
       "</table>\n",
       "</div>"
      ],
      "text/plain": [
       "              Price       Bath  CrimeIndex  MinutesToLoop  MilesToLake  \\\n",
       "count  2.190000e+02  70.000000  219.000000     219.000000   219.000000   \n",
       "mean   4.834311e+05   2.271429    4.663607       9.698630     3.420411   \n",
       "std    4.001249e+05   0.883364    1.418146       2.898995     0.352522   \n",
       "min    2.450000e+04   1.000000    1.090000       6.000000     2.770000   \n",
       "25%    3.190000e+05   2.000000    3.940000       8.000000     3.150000   \n",
       "50%    3.900000e+05   2.000000    4.930000       9.000000     3.400000   \n",
       "75%    5.125000e+05   3.000000    5.580000      10.000000     3.685000   \n",
       "max    3.686000e+06   4.000000    8.080000      22.000000     4.200000   \n",
       "\n",
       "              Age  LotSizeSqft  HouseSizeSqft  SchoolIndex  EstimatedPrice  \n",
       "count  219.000000   219.000000     219.000000   219.000000    2.190000e+02  \n",
       "mean    29.424658   873.200913     699.977169    49.197717    4.862191e+05  \n",
       "std     49.155880  1392.893683    1175.278922    18.554525    3.978582e+05  \n",
       "min      0.000000     0.000000       0.000000    16.700000    2.883650e+04  \n",
       "25%      0.000000     0.000000       0.000000    36.100000    3.074488e+05  \n",
       "50%      0.000000     0.000000       0.000000    50.000000    3.919800e+05  \n",
       "75%     41.000000  2614.000000    1344.000000    59.500000    5.324750e+05  \n",
       "max    131.000000  7405.000000    6422.000000    93.900000    3.973508e+06  "
      ]
     },
     "execution_count": 5,
     "metadata": {},
     "output_type": "execute_result"
    }
   ],
   "source": [
    "# Summarise the data\n",
    "house_data.describe()\n",
    "#house_data.describe(include=['object'])\n",
    "#house_data.describe(include='all')"
   ]
  },
  {
   "cell_type": "code",
   "execution_count": 6,
   "metadata": {
    "scrolled": true
   },
   "outputs": [
    {
     "data": {
      "text/html": [
       "<div>\n",
       "<style scoped>\n",
       "    .dataframe tbody tr th:only-of-type {\n",
       "        vertical-align: middle;\n",
       "    }\n",
       "\n",
       "    .dataframe tbody tr th {\n",
       "        vertical-align: top;\n",
       "    }\n",
       "\n",
       "    .dataframe thead th {\n",
       "        text-align: right;\n",
       "    }\n",
       "</style>\n",
       "<table border=\"1\" class=\"dataframe\">\n",
       "  <thead>\n",
       "    <tr style=\"text-align: right;\">\n",
       "      <th></th>\n",
       "      <th>Price</th>\n",
       "      <th>Bath</th>\n",
       "      <th>CrimeIndex</th>\n",
       "      <th>MinutesToLoop</th>\n",
       "      <th>MilesToLake</th>\n",
       "      <th>Age</th>\n",
       "      <th>LotSizeSqft</th>\n",
       "      <th>HouseSizeSqft</th>\n",
       "      <th>SchoolIndex</th>\n",
       "      <th>EstimatedPrice</th>\n",
       "    </tr>\n",
       "  </thead>\n",
       "  <tbody>\n",
       "    <tr>\n",
       "      <th>Price</th>\n",
       "      <td>1.000000</td>\n",
       "      <td>0.113943</td>\n",
       "      <td>0.118667</td>\n",
       "      <td>-0.034644</td>\n",
       "      <td>-0.072433</td>\n",
       "      <td>0.237720</td>\n",
       "      <td>0.443341</td>\n",
       "      <td>0.456272</td>\n",
       "      <td>-0.072403</td>\n",
       "      <td>0.983784</td>\n",
       "    </tr>\n",
       "    <tr>\n",
       "      <th>Bath</th>\n",
       "      <td>0.113943</td>\n",
       "      <td>1.000000</td>\n",
       "      <td>0.163785</td>\n",
       "      <td>0.166330</td>\n",
       "      <td>-0.157517</td>\n",
       "      <td>-0.039220</td>\n",
       "      <td>-0.029979</td>\n",
       "      <td>0.698526</td>\n",
       "      <td>-0.047992</td>\n",
       "      <td>0.105632</td>\n",
       "    </tr>\n",
       "    <tr>\n",
       "      <th>CrimeIndex</th>\n",
       "      <td>0.118667</td>\n",
       "      <td>0.163785</td>\n",
       "      <td>1.000000</td>\n",
       "      <td>0.194745</td>\n",
       "      <td>0.102382</td>\n",
       "      <td>-0.036644</td>\n",
       "      <td>-0.008807</td>\n",
       "      <td>0.070952</td>\n",
       "      <td>-0.100256</td>\n",
       "      <td>0.122793</td>\n",
       "    </tr>\n",
       "    <tr>\n",
       "      <th>MinutesToLoop</th>\n",
       "      <td>-0.034644</td>\n",
       "      <td>0.166330</td>\n",
       "      <td>0.194745</td>\n",
       "      <td>1.000000</td>\n",
       "      <td>0.374829</td>\n",
       "      <td>-0.023820</td>\n",
       "      <td>-0.053292</td>\n",
       "      <td>-0.032437</td>\n",
       "      <td>-0.196728</td>\n",
       "      <td>-0.034185</td>\n",
       "    </tr>\n",
       "    <tr>\n",
       "      <th>MilesToLake</th>\n",
       "      <td>-0.072433</td>\n",
       "      <td>-0.157517</td>\n",
       "      <td>0.102382</td>\n",
       "      <td>0.374829</td>\n",
       "      <td>1.000000</td>\n",
       "      <td>-0.047087</td>\n",
       "      <td>0.006240</td>\n",
       "      <td>-0.046517</td>\n",
       "      <td>-0.205966</td>\n",
       "      <td>-0.082604</td>\n",
       "    </tr>\n",
       "    <tr>\n",
       "      <th>Age</th>\n",
       "      <td>0.237720</td>\n",
       "      <td>-0.039220</td>\n",
       "      <td>-0.036644</td>\n",
       "      <td>-0.023820</td>\n",
       "      <td>-0.047087</td>\n",
       "      <td>1.000000</td>\n",
       "      <td>0.716774</td>\n",
       "      <td>0.645147</td>\n",
       "      <td>-0.029953</td>\n",
       "      <td>0.255628</td>\n",
       "    </tr>\n",
       "    <tr>\n",
       "      <th>LotSizeSqft</th>\n",
       "      <td>0.443341</td>\n",
       "      <td>-0.029979</td>\n",
       "      <td>-0.008807</td>\n",
       "      <td>-0.053292</td>\n",
       "      <td>0.006240</td>\n",
       "      <td>0.716774</td>\n",
       "      <td>1.000000</td>\n",
       "      <td>0.828598</td>\n",
       "      <td>-0.055458</td>\n",
       "      <td>0.454939</td>\n",
       "    </tr>\n",
       "    <tr>\n",
       "      <th>HouseSizeSqft</th>\n",
       "      <td>0.456272</td>\n",
       "      <td>0.698526</td>\n",
       "      <td>0.070952</td>\n",
       "      <td>-0.032437</td>\n",
       "      <td>-0.046517</td>\n",
       "      <td>0.645147</td>\n",
       "      <td>0.828598</td>\n",
       "      <td>1.000000</td>\n",
       "      <td>-0.023378</td>\n",
       "      <td>0.471783</td>\n",
       "    </tr>\n",
       "    <tr>\n",
       "      <th>SchoolIndex</th>\n",
       "      <td>-0.072403</td>\n",
       "      <td>-0.047992</td>\n",
       "      <td>-0.100256</td>\n",
       "      <td>-0.196728</td>\n",
       "      <td>-0.205966</td>\n",
       "      <td>-0.029953</td>\n",
       "      <td>-0.055458</td>\n",
       "      <td>-0.023378</td>\n",
       "      <td>1.000000</td>\n",
       "      <td>-0.073825</td>\n",
       "    </tr>\n",
       "    <tr>\n",
       "      <th>EstimatedPrice</th>\n",
       "      <td>0.983784</td>\n",
       "      <td>0.105632</td>\n",
       "      <td>0.122793</td>\n",
       "      <td>-0.034185</td>\n",
       "      <td>-0.082604</td>\n",
       "      <td>0.255628</td>\n",
       "      <td>0.454939</td>\n",
       "      <td>0.471783</td>\n",
       "      <td>-0.073825</td>\n",
       "      <td>1.000000</td>\n",
       "    </tr>\n",
       "  </tbody>\n",
       "</table>\n",
       "</div>"
      ],
      "text/plain": [
       "                   Price      Bath  CrimeIndex  MinutesToLoop  MilesToLake  \\\n",
       "Price           1.000000  0.113943    0.118667      -0.034644    -0.072433   \n",
       "Bath            0.113943  1.000000    0.163785       0.166330    -0.157517   \n",
       "CrimeIndex      0.118667  0.163785    1.000000       0.194745     0.102382   \n",
       "MinutesToLoop  -0.034644  0.166330    0.194745       1.000000     0.374829   \n",
       "MilesToLake    -0.072433 -0.157517    0.102382       0.374829     1.000000   \n",
       "Age             0.237720 -0.039220   -0.036644      -0.023820    -0.047087   \n",
       "LotSizeSqft     0.443341 -0.029979   -0.008807      -0.053292     0.006240   \n",
       "HouseSizeSqft   0.456272  0.698526    0.070952      -0.032437    -0.046517   \n",
       "SchoolIndex    -0.072403 -0.047992   -0.100256      -0.196728    -0.205966   \n",
       "EstimatedPrice  0.983784  0.105632    0.122793      -0.034185    -0.082604   \n",
       "\n",
       "                     Age  LotSizeSqft  HouseSizeSqft  SchoolIndex  \\\n",
       "Price           0.237720     0.443341       0.456272    -0.072403   \n",
       "Bath           -0.039220    -0.029979       0.698526    -0.047992   \n",
       "CrimeIndex     -0.036644    -0.008807       0.070952    -0.100256   \n",
       "MinutesToLoop  -0.023820    -0.053292      -0.032437    -0.196728   \n",
       "MilesToLake    -0.047087     0.006240      -0.046517    -0.205966   \n",
       "Age             1.000000     0.716774       0.645147    -0.029953   \n",
       "LotSizeSqft     0.716774     1.000000       0.828598    -0.055458   \n",
       "HouseSizeSqft   0.645147     0.828598       1.000000    -0.023378   \n",
       "SchoolIndex    -0.029953    -0.055458      -0.023378     1.000000   \n",
       "EstimatedPrice  0.255628     0.454939       0.471783    -0.073825   \n",
       "\n",
       "                EstimatedPrice  \n",
       "Price                 0.983784  \n",
       "Bath                  0.105632  \n",
       "CrimeIndex            0.122793  \n",
       "MinutesToLoop        -0.034185  \n",
       "MilesToLake          -0.082604  \n",
       "Age                   0.255628  \n",
       "LotSizeSqft           0.454939  \n",
       "HouseSizeSqft         0.471783  \n",
       "SchoolIndex          -0.073825  \n",
       "EstimatedPrice        1.000000  "
      ]
     },
     "execution_count": 6,
     "metadata": {},
     "output_type": "execute_result"
    }
   ],
   "source": [
    "# Look for any linear correlations in the data\n",
    "house_data.corr()"
   ]
  },
  {
   "cell_type": "code",
   "execution_count": null,
   "metadata": {},
   "outputs": [],
   "source": [
    "# Plot each variable against each other \n",
    "# scroll down past the subplot information\n",
    "pd.scatter_matrix(house_data, figsize=(15,15))"
   ]
  },
  {
   "cell_type": "markdown",
   "metadata": {},
   "source": [
    "### Questions?\n",
    "\n",
    "- Can you describe the data set - give a summary of what's happening?\n",
    "- What looks to be affecting house prices from our initial inspection?\n",
    "- What is the type of relationship in those variables affecting price?"
   ]
  },
  {
   "cell_type": "code",
   "execution_count": null,
   "metadata": {},
   "outputs": [],
   "source": [
    "# create a fitted model in one line\n",
    "lm = smf.ols(formula='Price ~ Bath + HouseSizeSqft', data=house_data).fit()\n",
    "\n",
    "# print the coefficients!\n",
    "lm.params"
   ]
  },
  {
   "cell_type": "markdown",
   "metadata": {},
   "source": [
    "The summary function provided by the statsmodel library presents lots of useful information about the resulting model.\n",
    "\n",
    "Key items to pay attention to are:\n",
    "- R-squared\n",
    "- Adj. R-Squared\n",
    "- coef (for each variable)"
   ]
  },
  {
   "cell_type": "code",
   "execution_count": null,
   "metadata": {},
   "outputs": [],
   "source": [
    "lm.summary()"
   ]
  },
  {
   "cell_type": "code",
   "execution_count": null,
   "metadata": {},
   "outputs": [],
   "source": [
    "# What would you expect a house price to be for a house with 3 bathrooms and 350 sqft?\n",
    "# Calculate it.\n",
    "508310 -28995.66*3 + 133*350"
   ]
  },
  {
   "cell_type": "markdown",
   "metadata": {},
   "source": [
    "## Student Excercise"
   ]
  },
  {
   "cell_type": "markdown",
   "metadata": {},
   "source": [
    "Now try creating a regression from just the EstimatedPrice"
   ]
  },
  {
   "cell_type": "code",
   "execution_count": null,
   "metadata": {},
   "outputs": [],
   "source": [
    "# check the distribution of Price vs. EstimatedPrice using a scatterplot\n",
    "import seaborn as sns\n",
    "sns.set_style(\"darkgrid\")\n",
    "\n",
    "sns.lmplot(y='Price', x='EstimatedPrice', data=house_data)"
   ]
  },
  {
   "cell_type": "code",
   "execution_count": null,
   "metadata": {},
   "outputs": [],
   "source": [
    "# Let's try just modelling just using the estimated price\n",
    "# create a fitted model in one line\n",
    "lm = smf.ols(formula='Price ~ EstimatedPrice ', data=house_data).fit()\n",
    "\n",
    "# print the coefficients\n",
    "lm.params"
   ]
  },
  {
   "cell_type": "code",
   "execution_count": null,
   "metadata": {},
   "outputs": [],
   "source": [
    "lm.summary()"
   ]
  },
  {
   "cell_type": "markdown",
   "metadata": {},
   "source": [
    "### Question:\n",
    "Did the model build on just Estimated Price have a better R-Squared value than the prior model built using Bath and HouseSizeSqft?"
   ]
  },
  {
   "cell_type": "markdown",
   "metadata": {},
   "source": [
    "### Predicting Price using the built model"
   ]
  },
  {
   "cell_type": "markdown",
   "metadata": {},
   "source": [
    "\n",
    "Now we will find out what the model estimates the price will be for the the minimum and maximium values of EstimatedPrice"
   ]
  },
  {
   "cell_type": "code",
   "execution_count": null,
   "metadata": {},
   "outputs": [],
   "source": [
    "# create a DataFrame with the minimum and maximum values of EstimatedPrice\n",
    "# these values will be be used in the built model to predict the Price\n",
    "X_new = pd.DataFrame({'EstimatedPrice': [house_data.EstimatedPrice.min(), house_data.EstimatedPrice.max()]})\n",
    "X_new.head()"
   ]
  },
  {
   "cell_type": "code",
   "execution_count": null,
   "metadata": {},
   "outputs": [],
   "source": [
    "# predict price given two data points and the built model\n",
    "\n",
    "preds = lm.predict(X_new)\n",
    "preds"
   ]
  },
  {
   "cell_type": "markdown",
   "metadata": {},
   "source": [
    "Now lets view a line representing the model build off just Estimated Price, over a scatter plot of the data of Price vs. EstimatedPrice.\n",
    "\n",
    "To produce the line overlay, we will simply plot a straight line between the two predicted points over the scatter plot. "
   ]
  },
  {
   "cell_type": "code",
   "execution_count": null,
   "metadata": {},
   "outputs": [],
   "source": [
    "# first, plot the observed data\n",
    "house_data.plot(kind='scatter', x='EstimatedPrice', y='Price')"
   ]
  },
  {
   "cell_type": "code",
   "execution_count": null,
   "metadata": {},
   "outputs": [],
   "source": [
    "# Now, plot a line over the points that uses just the two points\n",
    "house_data.plot(kind='scatter', x='EstimatedPrice', y='Price')\n",
    "# this code overlays a straight line between the the coordinates created by X_new and preds\n",
    "plt.plot(X_new, preds, c='red', linewidth=2)"
   ]
  },
  {
   "cell_type": "markdown",
   "metadata": {
    "collapsed": true
   },
   "source": [
    "### Experiment\n",
    "Now try creating new models by selecting different variables or combinations of variables. Can you get a better fit?"
   ]
  },
  {
   "cell_type": "code",
   "execution_count": null,
   "metadata": {},
   "outputs": [],
   "source": []
  },
  {
   "cell_type": "markdown",
   "metadata": {},
   "source": [
    "## Themepark "
   ]
  },
  {
   "cell_type": "markdown",
   "metadata": {},
   "source": [
    "The file **themepark.csv** has some data from a theme park. Children were asked to rate their experience on a scale\n",
    "from 0-5. This data was compared against the number of hours they spent in the park."
   ]
  },
  {
   "cell_type": "code",
   "execution_count": null,
   "metadata": {},
   "outputs": [],
   "source": [
    "!ls "
   ]
  },
  {
   "cell_type": "code",
   "execution_count": null,
   "metadata": {
    "collapsed": true
   },
   "outputs": [],
   "source": [
    "# Create a pandas DataFrame from this data by reading it in using pandas. \n",
    "# It is located in the same directory as this notebook, so you will not need to provide a filepath."
   ]
  },
  {
   "cell_type": "code",
   "execution_count": null,
   "metadata": {
    "collapsed": true
   },
   "outputs": [],
   "source": [
    "# Have a look at the data (e.g. display the head or tail, use describe, etc.)"
   ]
  },
  {
   "cell_type": "code",
   "execution_count": null,
   "metadata": {
    "collapsed": true
   },
   "outputs": [],
   "source": [
    "# Draw a scatterplot of this data."
   ]
  },
  {
   "cell_type": "code",
   "execution_count": null,
   "metadata": {
    "collapsed": true
   },
   "outputs": [],
   "source": [
    "# Try doing a linear regression on this data"
   ]
  },
  {
   "cell_type": "code",
   "execution_count": null,
   "metadata": {
    "collapsed": true
   },
   "outputs": [],
   "source": [
    "# Plot this regression over the top of the data. Could the regression be better?"
   ]
  },
  {
   "cell_type": "code",
   "execution_count": null,
   "metadata": {
    "collapsed": true
   },
   "outputs": [],
   "source": []
  }
 ],
 "metadata": {
  "anaconda-cloud": {},
  "kernelspec": {
   "display_name": "Python 3",
   "language": "python",
   "name": "python3"
  },
  "language_info": {
   "codemirror_mode": {
    "name": "ipython",
    "version": 3
   },
   "file_extension": ".py",
   "mimetype": "text/x-python",
   "name": "python",
   "nbconvert_exporter": "python",
   "pygments_lexer": "ipython3",
   "version": "3.6.4"
  }
 },
 "nbformat": 4,
 "nbformat_minor": 1
}
