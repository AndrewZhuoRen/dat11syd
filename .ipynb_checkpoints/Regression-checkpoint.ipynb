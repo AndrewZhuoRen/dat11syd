{
 "cells": [
  {
   "cell_type": "code",
   "execution_count": 10,
   "metadata": {},
   "outputs": [],
   "source": [
    "import pandas as pd\n",
    "import numpy as np\n",
    "import matplotlib.pyplot as plt\n",
    "import statsmodels.api as sm\n",
    "from sklearn.preprocessing import scale\n",
    "from sklearn import model_selection  # cross_validation\n",
    "from sklearn.linear_model import Ridge, RidgeCV, Lasso, LassoCV\n",
    "from sklearn.metrics import mean_squared_error"
   ]
  },
  {
   "cell_type": "code",
   "execution_count": 11,
   "metadata": {},
   "outputs": [],
   "source": [
    "data = pd.read_csv('C:/Users/Andrew/Documents/dat11syd/lessons/lesson-07/hwk/seattleWeather_1948-2017.csv')\n",
    "data = data[pd.notnull(data['RAIN'])]\n",
    "data = data[pd.notnull(data['PRCP'])]\n",
    "DATE = data['DATE']\n",
    "del data['DATE']\n",
    "data['TAVE'] = (data['TMAX'] + data['TMIN'])/2\n",
    "del data['TMAX']\n",
    "del data['TMIN']\n",
    "data.RAIN = data.RAIN.astype(int)\n",
    "data=(data-data.mean())/data.std()\n",
    "data['DATE'] = DATE"
   ]
  },
  {
   "cell_type": "code",
   "execution_count": 12,
   "metadata": {},
   "outputs": [
    {
     "data": {
      "text/html": [
       "<div>\n",
       "<style scoped>\n",
       "    .dataframe tbody tr th:only-of-type {\n",
       "        vertical-align: middle;\n",
       "    }\n",
       "\n",
       "    .dataframe tbody tr th {\n",
       "        vertical-align: top;\n",
       "    }\n",
       "\n",
       "    .dataframe thead th {\n",
       "        text-align: right;\n",
       "    }\n",
       "</style>\n",
       "<table border=\"1\" class=\"dataframe\">\n",
       "  <thead>\n",
       "    <tr style=\"text-align: right;\">\n",
       "      <th></th>\n",
       "      <th>PRCP</th>\n",
       "      <th>RAIN</th>\n",
       "      <th>TAVE</th>\n",
       "      <th>DATE</th>\n",
       "    </tr>\n",
       "  </thead>\n",
       "  <tbody>\n",
       "    <tr>\n",
       "      <th>0</th>\n",
       "      <td>1.521885</td>\n",
       "      <td>1.159224</td>\n",
       "      <td>-0.528433</td>\n",
       "      <td>1948-01-01</td>\n",
       "    </tr>\n",
       "    <tr>\n",
       "      <th>1</th>\n",
       "      <td>2.023911</td>\n",
       "      <td>1.159224</td>\n",
       "      <td>-1.101962</td>\n",
       "      <td>1948-01-02</td>\n",
       "    </tr>\n",
       "    <tr>\n",
       "      <th>2</th>\n",
       "      <td>1.312707</td>\n",
       "      <td>1.159224</td>\n",
       "      <td>-1.149756</td>\n",
       "      <td>1948-01-03</td>\n",
       "    </tr>\n",
       "    <tr>\n",
       "      <th>3</th>\n",
       "      <td>0.852517</td>\n",
       "      <td>1.159224</td>\n",
       "      <td>-1.197551</td>\n",
       "      <td>1948-01-04</td>\n",
       "    </tr>\n",
       "    <tr>\n",
       "      <th>4</th>\n",
       "      <td>0.266820</td>\n",
       "      <td>1.159224</td>\n",
       "      <td>-1.293139</td>\n",
       "      <td>1948-01-05</td>\n",
       "    </tr>\n",
       "  </tbody>\n",
       "</table>\n",
       "</div>"
      ],
      "text/plain": [
       "       PRCP      RAIN      TAVE       DATE\n",
       "0  1.521885  1.159224 -0.528433 1948-01-01\n",
       "1  2.023911  1.159224 -1.101962 1948-01-02\n",
       "2  1.312707  1.159224 -1.149756 1948-01-03\n",
       "3  0.852517  1.159224 -1.197551 1948-01-04\n",
       "4  0.266820  1.159224 -1.293139 1948-01-05"
      ]
     },
     "execution_count": 12,
     "metadata": {},
     "output_type": "execute_result"
    }
   ],
   "source": [
    "data['DATE'] =  pd.to_datetime(data['DATE'])\n",
    "data.head()"
   ]
  },
  {
   "cell_type": "code",
   "execution_count": 13,
   "metadata": {},
   "outputs": [
    {
     "data": {
      "text/html": [
       "<div>\n",
       "<style scoped>\n",
       "    .dataframe tbody tr th:only-of-type {\n",
       "        vertical-align: middle;\n",
       "    }\n",
       "\n",
       "    .dataframe tbody tr th {\n",
       "        vertical-align: top;\n",
       "    }\n",
       "\n",
       "    .dataframe thead th {\n",
       "        text-align: right;\n",
       "    }\n",
       "</style>\n",
       "<table border=\"1\" class=\"dataframe\">\n",
       "  <thead>\n",
       "    <tr style=\"text-align: right;\">\n",
       "      <th></th>\n",
       "      <th>PRCP</th>\n",
       "      <th>RAIN</th>\n",
       "      <th>TAVE</th>\n",
       "      <th>DATE</th>\n",
       "    </tr>\n",
       "  </thead>\n",
       "  <tbody>\n",
       "    <tr>\n",
       "      <th>22646</th>\n",
       "      <td>1.229036</td>\n",
       "      <td>1.159224</td>\n",
       "      <td>-0.337256</td>\n",
       "      <td>2010-01-01</td>\n",
       "    </tr>\n",
       "    <tr>\n",
       "      <th>22647</th>\n",
       "      <td>-0.193370</td>\n",
       "      <td>1.159224</td>\n",
       "      <td>-0.671815</td>\n",
       "      <td>2010-01-02</td>\n",
       "    </tr>\n",
       "    <tr>\n",
       "      <th>22648</th>\n",
       "      <td>-0.318877</td>\n",
       "      <td>1.159224</td>\n",
       "      <td>-0.815198</td>\n",
       "      <td>2010-01-03</td>\n",
       "    </tr>\n",
       "    <tr>\n",
       "      <th>22649</th>\n",
       "      <td>3.655495</td>\n",
       "      <td>1.159224</td>\n",
       "      <td>-0.528433</td>\n",
       "      <td>2010-01-04</td>\n",
       "    </tr>\n",
       "    <tr>\n",
       "      <th>22650</th>\n",
       "      <td>0.141314</td>\n",
       "      <td>1.159224</td>\n",
       "      <td>-0.480639</td>\n",
       "      <td>2010-01-05</td>\n",
       "    </tr>\n",
       "  </tbody>\n",
       "</table>\n",
       "</div>"
      ],
      "text/plain": [
       "           PRCP      RAIN      TAVE       DATE\n",
       "22646  1.229036  1.159224 -0.337256 2010-01-01\n",
       "22647 -0.193370  1.159224 -0.671815 2010-01-02\n",
       "22648 -0.318877  1.159224 -0.815198 2010-01-03\n",
       "22649  3.655495  1.159224 -0.528433 2010-01-04\n",
       "22650  0.141314  1.159224 -0.480639 2010-01-05"
      ]
     },
     "execution_count": 13,
     "metadata": {},
     "output_type": "execute_result"
    }
   ],
   "source": [
    "split_date = pd.datetime(2009,12,31)\n",
    "\n",
    "df = data.loc[data['DATE'] <= split_date]\n",
    "df_val = data.loc[data['DATE'] > split_date]\n",
    "df_val.head()"
   ]
  },
  {
   "cell_type": "code",
   "execution_count": 5,
   "metadata": {},
   "outputs": [
    {
     "name": "stdout",
     "output_type": "stream",
     "text": [
      "(22643, 4)\n",
      "(2905, 4)\n"
     ]
    }
   ],
   "source": [
    "print(df.shape)\n",
    "print(df_val.shape)"
   ]
  },
  {
   "cell_type": "code",
   "execution_count": 8,
   "metadata": {},
   "outputs": [
    {
     "data": {
      "text/html": [
       "<div>\n",
       "<style scoped>\n",
       "    .dataframe tbody tr th:only-of-type {\n",
       "        vertical-align: middle;\n",
       "    }\n",
       "\n",
       "    .dataframe tbody tr th {\n",
       "        vertical-align: top;\n",
       "    }\n",
       "\n",
       "    .dataframe thead th {\n",
       "        text-align: right;\n",
       "    }\n",
       "</style>\n",
       "<table border=\"1\" class=\"dataframe\">\n",
       "  <thead>\n",
       "    <tr style=\"text-align: right;\">\n",
       "      <th></th>\n",
       "      <th>PRCP</th>\n",
       "      <th>RAIN</th>\n",
       "      <th>TAVE</th>\n",
       "    </tr>\n",
       "  </thead>\n",
       "  <tbody>\n",
       "    <tr>\n",
       "      <th>PRCP</th>\n",
       "      <td>1.000000</td>\n",
       "      <td>0.515055</td>\n",
       "      <td>-0.165747</td>\n",
       "    </tr>\n",
       "    <tr>\n",
       "      <th>RAIN</th>\n",
       "      <td>0.515055</td>\n",
       "      <td>1.000000</td>\n",
       "      <td>-0.293864</td>\n",
       "    </tr>\n",
       "    <tr>\n",
       "      <th>TAVE</th>\n",
       "      <td>-0.165747</td>\n",
       "      <td>-0.293864</td>\n",
       "      <td>1.000000</td>\n",
       "    </tr>\n",
       "  </tbody>\n",
       "</table>\n",
       "</div>"
      ],
      "text/plain": [
       "          PRCP      RAIN      TAVE\n",
       "PRCP  1.000000  0.515055 -0.165747\n",
       "RAIN  0.515055  1.000000 -0.293864\n",
       "TAVE -0.165747 -0.293864  1.000000"
      ]
     },
     "execution_count": 8,
     "metadata": {},
     "output_type": "execute_result"
    }
   ],
   "source": [
    "df.corr()"
   ]
  },
  {
   "cell_type": "code",
   "execution_count": 15,
   "metadata": {},
   "outputs": [
    {
     "ename": "TypeError",
     "evalue": "fit() missing 1 required positional argument: 'y'",
     "output_type": "error",
     "traceback": [
      "\u001b[1;31m---------------------------------------------------------------------------\u001b[0m",
      "\u001b[1;31mTypeError\u001b[0m                                 Traceback (most recent call last)",
      "\u001b[1;32m<ipython-input-15-47d2e2a1ecdf>\u001b[0m in \u001b[0;36m<module>\u001b[1;34m()\u001b[0m\n\u001b[0;32m     14\u001b[0m     \u001b[0mX_train\u001b[0m\u001b[1;33m,\u001b[0m \u001b[0mX_test\u001b[0m\u001b[1;33m,\u001b[0m \u001b[0my_train\u001b[0m\u001b[1;33m,\u001b[0m \u001b[0my_test\u001b[0m \u001b[1;33m=\u001b[0m \u001b[0mtrain_test_split\u001b[0m\u001b[1;33m(\u001b[0m\u001b[0mX\u001b[0m\u001b[1;33m,\u001b[0m \u001b[0my\u001b[0m\u001b[1;33m,\u001b[0m \u001b[0mrandom_state\u001b[0m\u001b[1;33m=\u001b[0m\u001b[0mi\u001b[0m\u001b[1;33m)\u001b[0m\u001b[1;33m\u001b[0m\u001b[0m\n\u001b[0;32m     15\u001b[0m     \u001b[0mlogreg\u001b[0m \u001b[1;33m=\u001b[0m \u001b[0mLogisticRegression\u001b[0m\u001b[1;33m\u001b[0m\u001b[0m\n\u001b[1;32m---> 16\u001b[1;33m     \u001b[0mlogreg\u001b[0m\u001b[1;33m.\u001b[0m\u001b[0mfit\u001b[0m\u001b[1;33m(\u001b[0m\u001b[0mX_train\u001b[0m\u001b[1;33m,\u001b[0m \u001b[0my_train\u001b[0m\u001b[1;33m)\u001b[0m\u001b[1;33m\u001b[0m\u001b[0m\n\u001b[0m\u001b[0;32m     17\u001b[0m     \u001b[0mcoef1\u001b[0m\u001b[1;33m.\u001b[0m\u001b[0mappend\u001b[0m\u001b[1;33m(\u001b[0m\u001b[0mlogreg\u001b[0m\u001b[1;33m.\u001b[0m\u001b[0mcoef_\u001b[0m\u001b[1;33m[\u001b[0m\u001b[1;36m0\u001b[0m\u001b[1;33m]\u001b[0m\u001b[1;33m)\u001b[0m\u001b[1;33m\u001b[0m\u001b[0m\n\u001b[0;32m     18\u001b[0m     \u001b[0mcoef2\u001b[0m\u001b[1;33m.\u001b[0m\u001b[0mappend\u001b[0m\u001b[1;33m(\u001b[0m\u001b[0mlogreg\u001b[0m\u001b[1;33m.\u001b[0m\u001b[0mcoef_\u001b[0m\u001b[1;33m[\u001b[0m\u001b[1;36m1\u001b[0m\u001b[1;33m]\u001b[0m\u001b[1;33m)\u001b[0m\u001b[1;33m\u001b[0m\u001b[0m\n",
      "\u001b[1;31mTypeError\u001b[0m: fit() missing 1 required positional argument: 'y'"
     ]
    }
   ],
   "source": [
    "from sklearn import metrics\n",
    "from sklearn.model_selection import train_test_split\n",
    "from sklearn import linear_model\n",
    "from sklearn.linear_model import LogisticRegression as L\n",
    "\n",
    "coef1 = []\n",
    "coef2 = []\n",
    "coef3 = []\n",
    "\n",
    "for i in range(0,100):\n",
    "    feature_cols = ['PRCP', 'TAVE']\n",
    "    X = df[feature_cols]\n",
    "    y = df['RAIN']    \n",
    "    X_train, X_test, y_train, y_test = train_test_split(X, y, random_state=i)\n",
    "    logreg.fit(X_train, y_train)    \n",
    "    coef1.append(logreg.coef_[0])\n",
    "    coef2.append(logreg.coef_[1])\n",
    "    print(logreg.coef_)\n",
    "    \n",
    "print(np.average(coef1))\n",
    "print(np.average(coef2))\n",
    "\n",
    "a = np.average(coef1)\n",
    "b = np.average(coef2)"
   ]
  },
  {
   "cell_type": "code",
   "execution_count": null,
   "metadata": {},
   "outputs": [],
   "source": [
    "Y = data.RAIN.unique()\n",
    "j = -1\n",
    "pred = []\n",
    "for i in df_val['DATE']:\n",
    "    j = j + 1\n",
    "    y_pred = a * df_val.iloc[j]['PRCP'] + b * df_val.iloc[j]['TAVE']\n",
    "    if y_pred >= np.average(Y):\n",
    "        y_pred = True\n",
    "    else:\n",
    "        y_pred = False\n",
    "    pred.append(y_pred)    "
   ]
  },
  {
   "cell_type": "code",
   "execution_count": null,
   "metadata": {},
   "outputs": [],
   "source": [
    "check = pd.read_csv('C:/Users/Andrew/Documents/dat11syd/lessons/lesson-07/hwk/seattleWeather_1948-2017.csv')\n",
    "check = check[pd.notnull(check['RAIN'])]\n",
    "check = check[pd.notnull(check['PRCP'])]\n",
    "check['DATE'] =  pd.to_datetime(check['DATE'])\n",
    "split_date = pd.datetime(2009,12,31)\n",
    "check_val = check.loc[check['DATE'] > split_date]\n",
    "check_val.head()"
   ]
  },
  {
   "cell_type": "code",
   "execution_count": null,
   "metadata": {},
   "outputs": [],
   "source": [
    "correct = []\n",
    "j = -1\n",
    "for i in check_val['RAIN']:\n",
    "    j = j + 1\n",
    "    if pred[j] == i:\n",
    "        correct.append(1)\n",
    "    else:\n",
    "        correct.append(0)\n",
    "print('Percentage Estimated Correctly: ' + str(np.sum(correct)/len(correct)*100) + '%')  "
   ]
  },
  {
   "cell_type": "code",
   "execution_count": null,
   "metadata": {},
   "outputs": [],
   "source": []
  },
  {
   "cell_type": "code",
   "execution_count": null,
   "metadata": {},
   "outputs": [],
   "source": []
  }
 ],
 "metadata": {
  "kernelspec": {
   "display_name": "Python 3",
   "language": "python",
   "name": "python3"
  },
  "language_info": {
   "codemirror_mode": {
    "name": "ipython",
    "version": 3
   },
   "file_extension": ".py",
   "mimetype": "text/x-python",
   "name": "python",
   "nbconvert_exporter": "python",
   "pygments_lexer": "ipython3",
   "version": "3.6.4"
  }
 },
 "nbformat": 4,
 "nbformat_minor": 2
}
