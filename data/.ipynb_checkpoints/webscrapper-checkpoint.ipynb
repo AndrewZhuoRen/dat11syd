{
 "cells": [
  {
   "cell_type": "code",
   "execution_count": null,
   "metadata": {},
   "outputs": [],
   "source": [
    "import os\n",
    "import time\n",
    "import requests\n",
    "from selenium import webdriver\n",
    "import datetime"
   ]
  },
  {
   "cell_type": "code",
   "execution_count": null,
   "metadata": {},
   "outputs": [],
   "source": [
    "def fetchACXPrice(search_url):\n",
    "\n",
    "    # browser = webdriver.Firefox()\n",
    "    browser = webdriver.Chrome('/your/path/to/chromedriver') \n",
    "    \n",
    "    # Open webdriver and browse to URL\n",
    "    browser.get(search_url)\n",
    "    \n",
    "    time.sleep(5)\n",
    "    \n",
    "    # Chrome\n",
    "    xpath = '/html/body/app-root/app-landing/div/div[1]/app-nav/app-public-nav/div/div/div[2]/div[2]/div/span[1]'\n",
    "    timestamp = str(datetime.datetime.now()).split('.')[0]\n",
    "    exch = search_url.split('/')[2].split('.')[0]\n",
    "\n",
    "    try:\n",
    "        price = browser.find_elements_by_xpath(xpath)[0].text\n",
    "        pricefig = float(price.replace(',','').replace(' AUD',''))\n",
    "    except:\n",
    "        exch = 'acx_error'\n",
    "        pricefig = -1.0\n",
    "        \n",
    "        \n",
    "    browser.quit()\n",
    "    \n",
    "    return ( timestamp, exch, pricefig)"
   ]
  },
  {
   "cell_type": "code",
   "execution_count": null,
   "metadata": {},
   "outputs": [],
   "source": [
    "acx = fetchACXPrice( \"https://acx.io/\")\n",
    "print('[INFO]',acx)"
   ]
  }
 ],
 "metadata": {
  "kernelspec": {
   "display_name": "Python 3",
   "language": "python",
   "name": "python3"
  },
  "language_info": {
   "codemirror_mode": {
    "name": "ipython",
    "version": 3
   },
   "file_extension": ".py",
   "mimetype": "text/x-python",
   "name": "python",
   "nbconvert_exporter": "python",
   "pygments_lexer": "ipython3",
   "version": "3.5.3"
  }
 },
 "nbformat": 4,
 "nbformat_minor": 2
}
